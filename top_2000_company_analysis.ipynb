{
 "cells": [
  {
   "cell_type": "markdown",
   "id": "ba82d164-972b-4f44-8861-182c40855dfc",
   "metadata": {},
   "source": [
    "### Importing libraries"
   ]
  },
  {
   "cell_type": "code",
   "execution_count": 1,
   "id": "4b3281ce-2c12-423b-bfd4-c6964dc46326",
   "metadata": {},
   "outputs": [],
   "source": [
    "import numpy as np\n",
    "import pandas as pd\n",
    "import matplotlib.pyplot as plt\n",
    "import seaborn as sns"
   ]
  },
  {
   "cell_type": "code",
   "execution_count": 2,
   "id": "4a702cff-6dcf-4ff1-9d86-9fd4edbb2b2d",
   "metadata": {},
   "outputs": [],
   "source": [
    "forbes_df = pd.read_csv(\"Forbes_2000_top_company.csv\")"
   ]
  },
  {
   "cell_type": "code",
   "execution_count": 3,
   "id": "abd43ef9-9d5f-4065-b6fb-c4461d10acb7",
   "metadata": {},
   "outputs": [
    {
     "data": {
      "text/html": [
       "<div>\n",
       "<style scoped>\n",
       "    .dataframe tbody tr th:only-of-type {\n",
       "        vertical-align: middle;\n",
       "    }\n",
       "\n",
       "    .dataframe tbody tr th {\n",
       "        vertical-align: top;\n",
       "    }\n",
       "\n",
       "    .dataframe thead th {\n",
       "        text-align: right;\n",
       "    }\n",
       "</style>\n",
       "<table border=\"1\" class=\"dataframe\">\n",
       "  <thead>\n",
       "    <tr style=\"text-align: right;\">\n",
       "      <th></th>\n",
       "      <th>2022 Ranking</th>\n",
       "      <th>Organization Name</th>\n",
       "      <th>Industry</th>\n",
       "      <th>Country</th>\n",
       "      <th>Year Founded</th>\n",
       "      <th>CEO</th>\n",
       "      <th>Revenue (Billions)</th>\n",
       "      <th>Profits (Billions)</th>\n",
       "      <th>Assets (Billions)</th>\n",
       "      <th>Market Value (Billions)</th>\n",
       "      <th>Total Employees</th>\n",
       "    </tr>\n",
       "  </thead>\n",
       "  <tbody>\n",
       "    <tr>\n",
       "      <th>0</th>\n",
       "      <td>1</td>\n",
       "      <td>Berkshire Hathaway</td>\n",
       "      <td>Diversified Financials</td>\n",
       "      <td>United States</td>\n",
       "      <td>1939</td>\n",
       "      <td>Warren Edward Buffett</td>\n",
       "      <td>276.09</td>\n",
       "      <td>89.80</td>\n",
       "      <td>958.78</td>\n",
       "      <td>741.48</td>\n",
       "      <td>372000.0</td>\n",
       "    </tr>\n",
       "    <tr>\n",
       "      <th>1</th>\n",
       "      <td>2</td>\n",
       "      <td>ICBC</td>\n",
       "      <td>Banking</td>\n",
       "      <td>China</td>\n",
       "      <td>1984</td>\n",
       "      <td>Shu Gu</td>\n",
       "      <td>208.13</td>\n",
       "      <td>54.03</td>\n",
       "      <td>5518.51</td>\n",
       "      <td>214.42</td>\n",
       "      <td>449296</td>\n",
       "    </tr>\n",
       "    <tr>\n",
       "      <th>2</th>\n",
       "      <td>3</td>\n",
       "      <td>Saudi Arabian Oil Company (Saudi Aramco)</td>\n",
       "      <td>Oil &amp; Gas Operations</td>\n",
       "      <td>Saudi Arabia</td>\n",
       "      <td>1933</td>\n",
       "      <td>Amin bin Hasan Al-Nasser</td>\n",
       "      <td>400.38</td>\n",
       "      <td>105.36</td>\n",
       "      <td>576.04</td>\n",
       "      <td>2292.08</td>\n",
       "      <td>68493.0</td>\n",
       "    </tr>\n",
       "  </tbody>\n",
       "</table>\n",
       "</div>"
      ],
      "text/plain": [
       "   2022 Ranking                         Organization Name  \\\n",
       "0             1                        Berkshire Hathaway   \n",
       "1             2                                      ICBC   \n",
       "2             3  Saudi Arabian Oil Company (Saudi Aramco)   \n",
       "\n",
       "                 Industry        Country  Year Founded  \\\n",
       "0  Diversified Financials  United States          1939   \n",
       "1                 Banking          China          1984   \n",
       "2    Oil & Gas Operations   Saudi Arabia          1933   \n",
       "\n",
       "                        CEO  Revenue (Billions)  Profits (Billions)  \\\n",
       "0     Warren Edward Buffett              276.09               89.80   \n",
       "1                    Shu Gu              208.13               54.03   \n",
       "2  Amin bin Hasan Al-Nasser              400.38              105.36   \n",
       "\n",
       "   Assets (Billions)  Market Value (Billions) Total Employees  \n",
       "0             958.78                   741.48        372000.0  \n",
       "1            5518.51                   214.42          449296  \n",
       "2             576.04                  2292.08         68493.0  "
      ]
     },
     "execution_count": 3,
     "metadata": {},
     "output_type": "execute_result"
    }
   ],
   "source": [
    "forbes_df.head(3)"
   ]
  },
  {
   "cell_type": "markdown",
   "id": "abb4320f-0c12-4472-b901-1e5f89dfcc19",
   "metadata": {},
   "source": [
    "Checking for any null values"
   ]
  },
  {
   "cell_type": "code",
   "execution_count": 4,
   "id": "9c1336d4-8d4c-4496-bef3-6e4ea1641c96",
   "metadata": {},
   "outputs": [
    {
     "data": {
      "text/plain": [
       "2022 Ranking               0\n",
       "Organization Name          0\n",
       "Industry                   0\n",
       "Country                    0\n",
       "Year Founded               0\n",
       "CEO                        0\n",
       "Revenue (Billions)         0\n",
       "Profits (Billions)         0\n",
       "Assets (Billions)          0\n",
       "Market Value (Billions)    0\n",
       "Total Employees            0\n",
       "dtype: int64"
      ]
     },
     "execution_count": 4,
     "metadata": {},
     "output_type": "execute_result"
    }
   ],
   "source": [
    "forbes_df.isnull().sum()"
   ]
  },
  {
   "cell_type": "code",
   "execution_count": 5,
   "id": "46de57c2-0120-4779-bb6f-4ae1db1b12e5",
   "metadata": {},
   "outputs": [
    {
     "name": "stdout",
     "output_type": "stream",
     "text": [
      "<class 'pandas.core.frame.DataFrame'>\n",
      "RangeIndex: 1999 entries, 0 to 1998\n",
      "Data columns (total 11 columns):\n",
      " #   Column                   Non-Null Count  Dtype  \n",
      "---  ------                   --------------  -----  \n",
      " 0   2022 Ranking             1999 non-null   int64  \n",
      " 1   Organization Name        1999 non-null   object \n",
      " 2   Industry                 1999 non-null   object \n",
      " 3   Country                  1999 non-null   object \n",
      " 4   Year Founded             1999 non-null   int64  \n",
      " 5   CEO                      1999 non-null   object \n",
      " 6   Revenue (Billions)       1999 non-null   float64\n",
      " 7   Profits (Billions)       1999 non-null   float64\n",
      " 8   Assets (Billions)        1999 non-null   float64\n",
      " 9   Market Value (Billions)  1999 non-null   float64\n",
      " 10  Total Employees          1999 non-null   object \n",
      "dtypes: float64(4), int64(2), object(5)\n",
      "memory usage: 171.9+ KB\n"
     ]
    }
   ],
   "source": [
    "forbes_df.info()"
   ]
  },
  {
   "cell_type": "code",
   "execution_count": 6,
   "id": "98340068-a2e7-4f58-aa09-10c5603e1674",
   "metadata": {},
   "outputs": [
    {
     "data": {
      "text/plain": [
       "array(['Diversified Financials', 'Banking', 'Oil & Gas Operations',\n",
       "       'Retailing', 'Technology Hardware & Equipment',\n",
       "       'Consumer Durables', 'IT Software & Services', 'Insurance',\n",
       "       'Telecommunications Services', 'Media', 'Drugs & Biotechnology',\n",
       "       'Food, Drink & Tobacco', 'Semiconductors',\n",
       "       'Household & Personal Products', 'Materials', 'Conglomerates',\n",
       "       'Trading Companies', 'Transportation', 'Construction',\n",
       "       'Aerospace & Defense', 'Utilities',\n",
       "       'Health Care Equipment & Services', 'Chemicals', 'Capital Goods',\n",
       "       'Business Services & Supplies', 'Hotels, Restaurants & Leisure',\n",
       "       'Food Markets', 'Food & Drink', 'Automotive'], dtype=object)"
      ]
     },
     "execution_count": 6,
     "metadata": {},
     "output_type": "execute_result"
    }
   ],
   "source": [
    "forbes_df[\"Industry\"].unique()"
   ]
  },
  {
   "cell_type": "code",
   "execution_count": 7,
   "id": "7322008b-e39b-4e4c-86e6-c107ab13e23d",
   "metadata": {},
   "outputs": [
    {
     "data": {
      "text/html": [
       "<div>\n",
       "<style scoped>\n",
       "    .dataframe tbody tr th:only-of-type {\n",
       "        vertical-align: middle;\n",
       "    }\n",
       "\n",
       "    .dataframe tbody tr th {\n",
       "        vertical-align: top;\n",
       "    }\n",
       "\n",
       "    .dataframe thead th {\n",
       "        text-align: right;\n",
       "    }\n",
       "</style>\n",
       "<table border=\"1\" class=\"dataframe\">\n",
       "  <thead>\n",
       "    <tr style=\"text-align: right;\">\n",
       "      <th></th>\n",
       "      <th>Industry</th>\n",
       "    </tr>\n",
       "  </thead>\n",
       "  <tbody>\n",
       "    <tr>\n",
       "      <th>Banking</th>\n",
       "      <td>289</td>\n",
       "    </tr>\n",
       "    <tr>\n",
       "      <th>Diversified Financials</th>\n",
       "      <td>146</td>\n",
       "    </tr>\n",
       "    <tr>\n",
       "      <th>Construction</th>\n",
       "      <td>127</td>\n",
       "    </tr>\n",
       "    <tr>\n",
       "      <th>Materials</th>\n",
       "      <td>117</td>\n",
       "    </tr>\n",
       "    <tr>\n",
       "      <th>Oil &amp; Gas Operations</th>\n",
       "      <td>106</td>\n",
       "    </tr>\n",
       "    <tr>\n",
       "      <th>Insurance</th>\n",
       "      <td>105</td>\n",
       "    </tr>\n",
       "    <tr>\n",
       "      <th>Consumer Durables</th>\n",
       "      <td>89</td>\n",
       "    </tr>\n",
       "    <tr>\n",
       "      <th>Utilities</th>\n",
       "      <td>83</td>\n",
       "    </tr>\n",
       "    <tr>\n",
       "      <th>Business Services &amp; Supplies</th>\n",
       "      <td>82</td>\n",
       "    </tr>\n",
       "    <tr>\n",
       "      <th>Chemicals</th>\n",
       "      <td>75</td>\n",
       "    </tr>\n",
       "    <tr>\n",
       "      <th>IT Software &amp; Services</th>\n",
       "      <td>73</td>\n",
       "    </tr>\n",
       "    <tr>\n",
       "      <th>Food, Drink &amp; Tobacco</th>\n",
       "      <td>73</td>\n",
       "    </tr>\n",
       "    <tr>\n",
       "      <th>Transportation</th>\n",
       "      <td>70</td>\n",
       "    </tr>\n",
       "    <tr>\n",
       "      <th>Retailing</th>\n",
       "      <td>69</td>\n",
       "    </tr>\n",
       "    <tr>\n",
       "      <th>Drugs &amp; Biotechnology</th>\n",
       "      <td>67</td>\n",
       "    </tr>\n",
       "    <tr>\n",
       "      <th>Capital Goods</th>\n",
       "      <td>59</td>\n",
       "    </tr>\n",
       "    <tr>\n",
       "      <th>Technology Hardware &amp; Equipment</th>\n",
       "      <td>56</td>\n",
       "    </tr>\n",
       "    <tr>\n",
       "      <th>Health Care Equipment &amp; Services</th>\n",
       "      <td>44</td>\n",
       "    </tr>\n",
       "    <tr>\n",
       "      <th>Telecommunications Services</th>\n",
       "      <td>43</td>\n",
       "    </tr>\n",
       "    <tr>\n",
       "      <th>Trading Companies</th>\n",
       "      <td>37</td>\n",
       "    </tr>\n",
       "    <tr>\n",
       "      <th>Semiconductors</th>\n",
       "      <td>35</td>\n",
       "    </tr>\n",
       "    <tr>\n",
       "      <th>Household &amp; Personal Products</th>\n",
       "      <td>33</td>\n",
       "    </tr>\n",
       "    <tr>\n",
       "      <th>Conglomerates</th>\n",
       "      <td>29</td>\n",
       "    </tr>\n",
       "    <tr>\n",
       "      <th>Food Markets</th>\n",
       "      <td>26</td>\n",
       "    </tr>\n",
       "    <tr>\n",
       "      <th>Media</th>\n",
       "      <td>25</td>\n",
       "    </tr>\n",
       "    <tr>\n",
       "      <th>Hotels, Restaurants &amp; Leisure</th>\n",
       "      <td>19</td>\n",
       "    </tr>\n",
       "    <tr>\n",
       "      <th>Aerospace &amp; Defense</th>\n",
       "      <td>18</td>\n",
       "    </tr>\n",
       "    <tr>\n",
       "      <th>Automotive</th>\n",
       "      <td>2</td>\n",
       "    </tr>\n",
       "    <tr>\n",
       "      <th>Food &amp; Drink</th>\n",
       "      <td>2</td>\n",
       "    </tr>\n",
       "  </tbody>\n",
       "</table>\n",
       "</div>"
      ],
      "text/plain": [
       "                                  Industry\n",
       "Banking                                289\n",
       "Diversified Financials                 146\n",
       "Construction                           127\n",
       "Materials                              117\n",
       "Oil & Gas Operations                   106\n",
       "Insurance                              105\n",
       "Consumer Durables                       89\n",
       "Utilities                               83\n",
       "Business Services & Supplies            82\n",
       "Chemicals                               75\n",
       "IT Software & Services                  73\n",
       "Food, Drink & Tobacco                   73\n",
       "Transportation                          70\n",
       "Retailing                               69\n",
       "Drugs & Biotechnology                   67\n",
       "Capital Goods                           59\n",
       "Technology Hardware & Equipment         56\n",
       "Health Care Equipment & Services        44\n",
       "Telecommunications Services             43\n",
       "Trading Companies                       37\n",
       "Semiconductors                          35\n",
       "Household & Personal Products           33\n",
       "Conglomerates                           29\n",
       "Food Markets                            26\n",
       "Media                                   25\n",
       "Hotels, Restaurants & Leisure           19\n",
       "Aerospace & Defense                     18\n",
       "Automotive                               2\n",
       "Food & Drink                             2"
      ]
     },
     "execution_count": 7,
     "metadata": {},
     "output_type": "execute_result"
    }
   ],
   "source": [
    "forbes_df[\"Industry\"].value_counts().to_frame()"
   ]
  },
  {
   "cell_type": "markdown",
   "id": "1a884285-a23c-4c08-b96c-748efc361399",
   "metadata": {},
   "source": [
    "### Industry that appeared most in the list"
   ]
  },
  {
   "cell_type": "code",
   "execution_count": 8,
   "id": "aa70f0da-9173-44a6-ac13-7c1fe2d5334c",
   "metadata": {},
   "outputs": [
    {
     "data": {
      "image/png": "[encoded data removed]",
      "text/plain": [
       "<Figure size 432x288 with 1 Axes>"
      ]
     },
     "metadata": {
      "needs_background": "light"
     },
     "output_type": "display_data"
    }
   ],
   "source": [
    "forbes_df[\"Industry\"].value_counts().plot(kind='bar')\n",
    "plt.xlabel('Industry')\n",
    "plt.ylabel('Frequency')\n",
    "plt.show()"
   ]
  },
  {
   "cell_type": "markdown",
   "id": "d3901712-e0a9-41e8-9cd0-832e4b868803",
   "metadata": {},
   "source": [
    "Before doing any further, I want to standardize the naming in this dataset."
   ]
  },
  {
   "cell_type": "code",
   "execution_count": 9,
   "id": "5c50ddf6-8cf8-413f-a8b6-cd6a0d92c5b2",
   "metadata": {
    "tags": []
   },
   "outputs": [],
   "source": [
    "forbes_df = forbes_df.rename(columns = {'2022 Ranking':'ranking',\n",
    "                                        'Organization Name': 'organization', \n",
    "                                        'Country':'origin_country',\n",
    "                                        'Year Founded':'year_founded',\n",
    "                                        'Revenue (Billions)':'revenue',\n",
    "                                        'Assets (billions)':'assets',\n",
    "                                        'Market Value (Billions)':'market_value',\n",
    "                                        'Total Employees':'total_employees',\n",
    "                                        'Profits (Billions)':'profits',\n",
    "                                        'Assets (Billions)':'assets'})"
   ]
  },
  {
   "cell_type": "code",
   "execution_count": 10,
   "id": "efdc6a7e-b8d8-408f-8ee3-93f29faa1184",
   "metadata": {},
   "outputs": [],
   "source": [
    "forbes_df.columns = [col.lower() for col in forbes_df.columns]"
   ]
  },
  {
   "cell_type": "code",
   "execution_count": 11,
   "id": "94c8e003-9af6-4fd5-9fd3-2fb6e9ed52f0",
   "metadata": {},
   "outputs": [
    {
     "data": {
      "text/html": [
       "<div>\n",
       "<style scoped>\n",
       "    .dataframe tbody tr th:only-of-type {\n",
       "        vertical-align: middle;\n",
       "    }\n",
       "\n",
       "    .dataframe tbody tr th {\n",
       "        vertical-align: top;\n",
       "    }\n",
       "\n",
       "    .dataframe thead th {\n",
       "        text-align: right;\n",
       "    }\n",
       "</style>\n",
       "<table border=\"1\" class=\"dataframe\">\n",
       "  <thead>\n",
       "    <tr style=\"text-align: right;\">\n",
       "      <th></th>\n",
       "      <th>ranking</th>\n",
       "      <th>organization</th>\n",
       "      <th>industry</th>\n",
       "      <th>origin_country</th>\n",
       "      <th>year_founded</th>\n",
       "      <th>ceo</th>\n",
       "      <th>revenue</th>\n",
       "      <th>profits</th>\n",
       "      <th>assets</th>\n",
       "      <th>market_value</th>\n",
       "      <th>total_employees</th>\n",
       "    </tr>\n",
       "  </thead>\n",
       "  <tbody>\n",
       "    <tr>\n",
       "      <th>0</th>\n",
       "      <td>1</td>\n",
       "      <td>Berkshire Hathaway</td>\n",
       "      <td>Diversified Financials</td>\n",
       "      <td>United States</td>\n",
       "      <td>1939</td>\n",
       "      <td>Warren Edward Buffett</td>\n",
       "      <td>276.09</td>\n",
       "      <td>89.8</td>\n",
       "      <td>958.78</td>\n",
       "      <td>741.48</td>\n",
       "      <td>372000.0</td>\n",
       "    </tr>\n",
       "  </tbody>\n",
       "</table>\n",
       "</div>"
      ],
      "text/plain": [
       "   ranking        organization                industry origin_country  \\\n",
       "0        1  Berkshire Hathaway  Diversified Financials  United States   \n",
       "\n",
       "   year_founded                    ceo  revenue  profits  assets  \\\n",
       "0          1939  Warren Edward Buffett   276.09     89.8  958.78   \n",
       "\n",
       "   market_value total_employees  \n",
       "0        741.48        372000.0  "
      ]
     },
     "execution_count": 11,
     "metadata": {},
     "output_type": "execute_result"
    }
   ],
   "source": [
    "forbes_df.head(1)"
   ]
  },
  {
   "cell_type": "markdown",
   "id": "d0833477-7079-4bdb-a010-1414dadda5c6",
   "metadata": {},
   "source": [
    "Checking whether any column any NAN value before doing any calculation"
   ]
  },
  {
   "cell_type": "code",
   "execution_count": 14,
   "id": "02b930b1-b0de-45f8-838d-6658806d65f0",
   "metadata": {},
   "outputs": [
    {
     "data": {
      "text/plain": [
       "0"
      ]
     },
     "execution_count": 14,
     "metadata": {},
     "output_type": "execute_result"
    }
   ],
   "source": [
    "pd.options.mode.chained_assignment = None\n",
    "forbes_df[\"profits\"].isna().sum() "
   ]
  },
  {
   "cell_type": "code",
   "execution_count": 16,
   "id": "b56031a1-d336-4084-8550-42a627a118f1",
   "metadata": {},
   "outputs": [
    {
     "data": {
      "text/html": [
       "<div>\n",
       "<style scoped>\n",
       "    .dataframe tbody tr th:only-of-type {\n",
       "        vertical-align: middle;\n",
       "    }\n",
       "\n",
       "    .dataframe tbody tr th {\n",
       "        vertical-align: top;\n",
       "    }\n",
       "\n",
       "    .dataframe thead th {\n",
       "        text-align: right;\n",
       "    }\n",
       "</style>\n",
       "<table border=\"1\" class=\"dataframe\">\n",
       "  <thead>\n",
       "    <tr style=\"text-align: right;\">\n",
       "      <th></th>\n",
       "      <th>ranking</th>\n",
       "      <th>organization</th>\n",
       "      <th>industry</th>\n",
       "      <th>origin_country</th>\n",
       "      <th>year_founded</th>\n",
       "      <th>ceo</th>\n",
       "      <th>revenue</th>\n",
       "      <th>profits</th>\n",
       "      <th>assets</th>\n",
       "      <th>market_value</th>\n",
       "      <th>total_employees</th>\n",
       "    </tr>\n",
       "  </thead>\n",
       "  <tbody>\n",
       "    <tr>\n",
       "      <th>1374</th>\n",
       "      <td>1375</td>\n",
       "      <td>Galp Energia</td>\n",
       "      <td>Oil &amp; Gas Operations</td>\n",
       "      <td>Portugal</td>\n",
       "      <td>1999</td>\n",
       "      <td>Andrew Brown</td>\n",
       "      <td>19.04</td>\n",
       "      <td>0.0</td>\n",
       "      <td>16.96</td>\n",
       "      <td>10.12</td>\n",
       "      <td>6152.0</td>\n",
       "    </tr>\n",
       "    <tr>\n",
       "      <th>1609</th>\n",
       "      <td>1608</td>\n",
       "      <td>YPF</td>\n",
       "      <td>Oil &amp; Gas Operations</td>\n",
       "      <td>Argentina</td>\n",
       "      <td>1977</td>\n",
       "      <td>Sergio Pablo Antonio</td>\n",
       "      <td>13.02</td>\n",
       "      <td>0.0</td>\n",
       "      <td>23.27</td>\n",
       "      <td>3.31</td>\n",
       "      <td>114365]</td>\n",
       "    </tr>\n",
       "  </tbody>\n",
       "</table>\n",
       "</div>"
      ],
      "text/plain": [
       "      ranking  organization              industry origin_country  \\\n",
       "1374     1375  Galp Energia  Oil & Gas Operations       Portugal   \n",
       "1609     1608          YPF   Oil & Gas Operations      Argentina   \n",
       "\n",
       "      year_founded                   ceo  revenue  profits  assets  \\\n",
       "1374          1999          Andrew Brown    19.04      0.0   16.96   \n",
       "1609          1977  Sergio Pablo Antonio    13.02      0.0   23.27   \n",
       "\n",
       "      market_value total_employees  \n",
       "1374         10.12          6152.0  \n",
       "1609          3.31         114365]  "
      ]
     },
     "execution_count": 16,
     "metadata": {},
     "output_type": "execute_result"
    }
   ],
   "source": [
    "pd.options.mode.chained_assignment = None\n",
    "forbes_df.query(\"profits == 0\")"
   ]
  },
  {
   "cell_type": "code",
   "execution_count": 20,
   "id": "544f326b-7e61-4175-8b27-b7b0bca02f37",
   "metadata": {},
   "outputs": [
    {
     "data": {
      "text/html": [
       "<div>\n",
       "<style scoped>\n",
       "    .dataframe tbody tr th:only-of-type {\n",
       "        vertical-align: middle;\n",
       "    }\n",
       "\n",
       "    .dataframe tbody tr th {\n",
       "        vertical-align: top;\n",
       "    }\n",
       "\n",
       "    .dataframe thead th {\n",
       "        text-align: right;\n",
       "    }\n",
       "</style>\n",
       "<table border=\"1\" class=\"dataframe\">\n",
       "  <thead>\n",
       "    <tr style=\"text-align: right;\">\n",
       "      <th></th>\n",
       "      <th>ranking</th>\n",
       "      <th>organization</th>\n",
       "      <th>industry</th>\n",
       "      <th>origin_country</th>\n",
       "      <th>year_founded</th>\n",
       "      <th>ceo</th>\n",
       "      <th>revenue</th>\n",
       "      <th>profits</th>\n",
       "      <th>assets</th>\n",
       "      <th>market_value</th>\n",
       "      <th>total_employees</th>\n",
       "    </tr>\n",
       "  </thead>\n",
       "  <tbody>\n",
       "    <tr>\n",
       "      <th>1942</th>\n",
       "      <td>1943</td>\n",
       "      <td>Bradespar</td>\n",
       "      <td>Diversified Financials</td>\n",
       "      <td>Brazil</td>\n",
       "      <td>0</td>\n",
       "      <td>Fernando Jorge Buso</td>\n",
       "      <td>0.0</td>\n",
       "      <td>1.5</td>\n",
       "      <td>1.36</td>\n",
       "      <td>2.43</td>\n",
       "      <td>0</td>\n",
       "    </tr>\n",
       "  </tbody>\n",
       "</table>\n",
       "</div>"
      ],
      "text/plain": [
       "      ranking organization                industry origin_country  \\\n",
       "1942     1943    Bradespar  Diversified Financials         Brazil   \n",
       "\n",
       "      year_founded                  ceo  revenue  profits  assets  \\\n",
       "1942             0  Fernando Jorge Buso      0.0      1.5    1.36   \n",
       "\n",
       "      market_value total_employees  \n",
       "1942          2.43               0  "
      ]
     },
     "execution_count": 20,
     "metadata": {},
     "output_type": "execute_result"
    }
   ],
   "source": [
    "pd.options.mode.chained_assignment = None\n",
    "forbes_df.query(\"revenue == 0\")"
   ]
  },
  {
   "cell_type": "markdown",
   "id": "7aedd325-36d3-4440-9470-282863013ffe",
   "metadata": {},
   "source": [
    "There are 0 values in the column of profits and revenues. That doesnt mean that the companies have zero revenue and profit for that particular year. The values in the column are in billions. Hence, we can just assume that the profits and revenues are in millions."
   ]
  },
  {
   "cell_type": "code",
   "execution_count": null,
   "id": "322b3290-75fb-4691-84d5-7445ff42ddb5",
   "metadata": {},
   "outputs": [],
   "source": [
    "However, for the sake of the calculation, I have decided not to include the zero values."
   ]
  },
  {
   "cell_type": "code",
   "execution_count": 18,
   "id": "dbbe80c0-a10c-47e3-b59a-c4dbf6b161cd",
   "metadata": {},
   "outputs": [],
   "source": [
    "forbes_df = forbes_df[forbes_df[\"profits\"]!=0]"
   ]
  },
  {
   "cell_type": "code",
   "execution_count": 21,
   "id": "06473ecd-b015-47d2-ae92-3687bc0da0bb",
   "metadata": {},
   "outputs": [],
   "source": [
    "forbes_df = forbes_df[forbes_df[\"revenue\"]!=0]"
   ]
  },
  {
   "cell_type": "code",
   "execution_count": 78,
   "id": "e50f5b08-1803-4136-a3c6-584161d4016f",
   "metadata": {},
   "outputs": [],
   "source": [
    "forbes_df.loc[forbes_df[\"profits\"] != 0, \"profit_margin\"] = forbes_df[\"profits\"] / forbes_df[\"revenue\"]\n",
    "forbes_df.loc[forbes_df[\"profits\"] != 0, \"PE_ratio\"] = forbes_df[\"market_value\"] / forbes_df[\"profits\"]\n",
    "forbes_df[\"ROA\"] = forbes_df[\"profits\"] / forbes_df[\"assets\"]"
   ]
  },
  {
   "cell_type": "code",
   "execution_count": 79,
   "id": "b61c1509-5f60-4e21-9d14-002a6e3d5230",
   "metadata": {},
   "outputs": [
    {
     "data": {
      "text/html": [
       "<div>\n",
       "<style scoped>\n",
       "    .dataframe tbody tr th:only-of-type {\n",
       "        vertical-align: middle;\n",
       "    }\n",
       "\n",
       "    .dataframe tbody tr th {\n",
       "        vertical-align: top;\n",
       "    }\n",
       "\n",
       "    .dataframe thead th {\n",
       "        text-align: right;\n",
       "    }\n",
       "</style>\n",
       "<table border=\"1\" class=\"dataframe\">\n",
       "  <thead>\n",
       "    <tr style=\"text-align: right;\">\n",
       "      <th></th>\n",
       "      <th>ranking</th>\n",
       "      <th>organization</th>\n",
       "      <th>industry</th>\n",
       "      <th>origin_country</th>\n",
       "      <th>year_founded</th>\n",
       "      <th>ceo</th>\n",
       "      <th>revenue</th>\n",
       "      <th>profits</th>\n",
       "      <th>assets</th>\n",
       "      <th>market_value</th>\n",
       "      <th>total_employees</th>\n",
       "      <th>profit_margin</th>\n",
       "      <th>PE_ratio</th>\n",
       "      <th>ROA</th>\n",
       "    </tr>\n",
       "  </thead>\n",
       "  <tbody>\n",
       "    <tr>\n",
       "      <th>0</th>\n",
       "      <td>1</td>\n",
       "      <td>Berkshire Hathaway</td>\n",
       "      <td>Diversified Financials</td>\n",
       "      <td>United States</td>\n",
       "      <td>1939</td>\n",
       "      <td>Warren Edward Buffett</td>\n",
       "      <td>276.09</td>\n",
       "      <td>89.8</td>\n",
       "      <td>958.78</td>\n",
       "      <td>741.48</td>\n",
       "      <td>372000.0</td>\n",
       "      <td>0.325256</td>\n",
       "      <td>8.257016</td>\n",
       "      <td>0.093661</td>\n",
       "    </tr>\n",
       "  </tbody>\n",
       "</table>\n",
       "</div>"
      ],
      "text/plain": [
       "   ranking        organization                industry origin_country  \\\n",
       "0        1  Berkshire Hathaway  Diversified Financials  United States   \n",
       "\n",
       "   year_founded                    ceo  revenue  profits  assets  \\\n",
       "0          1939  Warren Edward Buffett   276.09     89.8  958.78   \n",
       "\n",
       "   market_value total_employees  profit_margin  PE_ratio       ROA  \n",
       "0        741.48        372000.0       0.325256  8.257016  0.093661  "
      ]
     },
     "execution_count": 79,
     "metadata": {},
     "output_type": "execute_result"
    }
   ],
   "source": [
    "forbes_df.head(1)"
   ]
  },
  {
   "cell_type": "markdown",
   "id": "10694a77-a504-4bec-91a5-07e2ff24c50e",
   "metadata": {},
   "source": [
    "### Correlation Heatmap "
   ]
  },
  {
   "cell_type": "code",
   "execution_count": 80,
   "id": "72407d33-1fd7-4b5f-95be-fd2cec01a97d",
   "metadata": {},
   "outputs": [
    {
     "data": {
      "text/plain": [
       "<AxesSubplot:>"
      ]
     },
     "execution_count": 80,
     "metadata": {},
     "output_type": "execute_result"
    },
    {
     "data": {
      "image/png": "[encoded data removed]",
      "text/plain": [
       "<Figure size 432x288 with 2 Axes>"
      ]
     },
     "metadata": {
      "needs_background": "light"
     },
     "output_type": "display_data"
    }
   ],
   "source": [
    "corr_matrix = forbes_df.corr()\n",
    "sns.heatmap(corr_matrix, annot = False)"
   ]
  },
  {
   "cell_type": "code",
   "execution_count": 82,
   "id": "a6489fac-dd2c-42ce-8128-dca0caf343e9",
   "metadata": {},
   "outputs": [
    {
     "data": {
      "image/png": "[encoded data removed]",
      "text/plain": [
       "<Figure size 432x288 with 1 Axes>"
      ]
     },
     "metadata": {
      "needs_background": "light"
     },
     "output_type": "display_data"
    },
    {
     "data": {
      "image/png": "[encoded data removed]",
      "text/plain": [
       "<Figure size 432x288 with 1 Axes>"
      ]
     },
     "metadata": {
      "needs_background": "light"
     },
     "output_type": "display_data"
    }
   ],
   "source": [
    "plt.scatter(forbes_df['profits'], forbes_df['market_value'])\n",
    "plt.xlabel('Profits')\n",
    "plt.ylabel('Market Value')\n",
    "plt.title('Market Value against Profits')\n",
    "plt.show()\n",
    "\n",
    "plt.scatter(forbes_df['profits'], forbes_df['revenue'])\n",
    "plt.xlabel('Profits')\n",
    "plt.ylabel('Revenue')\n",
    "plt.title('Revenue against Profits')\n",
    "plt.show()"
   ]
  },
  {
   "cell_type": "markdown",
   "id": "cda66e03-6aa1-4dc6-8c55-02c008d6ebe0",
   "metadata": {},
   "source": [
    "### Average profit margin across the industry"
   ]
  },
  {
   "cell_type": "code",
   "execution_count": 37,
   "id": "7be8f185-957f-46fe-8f9d-09625be06601",
   "metadata": {},
   "outputs": [],
   "source": [
    "avg_profit_margin = forbes_df.groupby('industry')['profit_margin'].mean().sort_values(ascending=False)\n",
    "highest_profit_margin_industry = avg_profit_margin.head(1).index[0]"
   ]
  },
  {
   "cell_type": "markdown",
   "id": "8e52974d-7be9-493d-8238-afea297dcb2f",
   "metadata": {},
   "source": [
    "Calculating the average profit margin to get the fair comparison across the industry"
   ]
  },
  {
   "cell_type": "code",
   "execution_count": 81,
   "id": "dbb24fa5-b7a4-458c-ae2c-4c8e3baf36c1",
   "metadata": {},
   "outputs": [
    {
     "data": {
      "text/plain": [
       "industry\n",
       "Diversified Financials               0.825069\n",
       "Business Services & Supplies         0.560531\n",
       "Consumer Durables                    0.504796\n",
       "Construction                         0.285319\n",
       "Media                                0.224176\n",
       "Semiconductors                       0.222727\n",
       "IT Software & Services               0.222056\n",
       "Health Care Equipment & Services     0.187847\n",
       "Banking                              0.180851\n",
       "Food & Drink                         0.175000\n",
       "Chemicals                            0.165976\n",
       "Conglomerates                        0.164466\n",
       "Telecommunications Services          0.163503\n",
       "Materials                            0.157809\n",
       "Utilities                            0.154278\n",
       "Drugs & Biotechnology                0.143099\n",
       "Oil & Gas Operations                 0.130824\n",
       "Food, Drink & Tobacco                0.125995\n",
       "Household & Personal Products        0.123389\n",
       "Insurance                            0.107661\n",
       "Technology Hardware & Equipment      0.107277\n",
       "Capital Goods                        0.086231\n",
       "Transportation                       0.080414\n",
       "Aerospace & Defense                  0.075077\n",
       "Retailing                            0.059068\n",
       "Trading Companies                    0.036918\n",
       "Food Markets                         0.031607\n",
       "Hotels, Restaurants & Leisure       -0.227980\n",
       "Automotive                         -89.583333\n",
       "Name: profit_margin, dtype: float64"
      ]
     },
     "execution_count": 81,
     "metadata": {},
     "output_type": "execute_result"
    }
   ],
   "source": [
    "avg_profit_margin"
   ]
  },
  {
   "cell_type": "code",
   "execution_count": 34,
   "id": "ca7df1c6-d1f5-48e2-b90c-be6b87e0b04c",
   "metadata": {},
   "outputs": [],
   "source": [
    "automotive_df = forbes_df.query(\"industry == 'Automotive'\")"
   ]
  },
  {
   "cell_type": "code",
   "execution_count": 35,
   "id": "b2b6a935-ba2e-48e9-bf31-ebeb3e58db10",
   "metadata": {},
   "outputs": [
    {
     "data": {
      "text/html": [
       "<div>\n",
       "<style scoped>\n",
       "    .dataframe tbody tr th:only-of-type {\n",
       "        vertical-align: middle;\n",
       "    }\n",
       "\n",
       "    .dataframe tbody tr th {\n",
       "        vertical-align: top;\n",
       "    }\n",
       "\n",
       "    .dataframe thead th {\n",
       "        text-align: right;\n",
       "    }\n",
       "</style>\n",
       "<table border=\"1\" class=\"dataframe\">\n",
       "  <thead>\n",
       "    <tr style=\"text-align: right;\">\n",
       "      <th></th>\n",
       "      <th>ranking</th>\n",
       "      <th>organization</th>\n",
       "      <th>industry</th>\n",
       "      <th>origin_country</th>\n",
       "      <th>year_founded</th>\n",
       "      <th>ceo</th>\n",
       "      <th>revenue</th>\n",
       "      <th>profits</th>\n",
       "      <th>assets</th>\n",
       "      <th>market_value</th>\n",
       "      <th>total_employees</th>\n",
       "      <th>profit_margin</th>\n",
       "      <th>PE_ratio</th>\n",
       "    </tr>\n",
       "  </thead>\n",
       "  <tbody>\n",
       "    <tr>\n",
       "      <th>1439</th>\n",
       "      <td>1440</td>\n",
       "      <td>Rivian</td>\n",
       "      <td>Automotive</td>\n",
       "      <td>United States</td>\n",
       "      <td>2009</td>\n",
       "      <td>Robert Joseph Scaringe</td>\n",
       "      <td>0.06</td>\n",
       "      <td>-4.69</td>\n",
       "      <td>22.29</td>\n",
       "      <td>30.27</td>\n",
       "      <td>10422.0</td>\n",
       "      <td>-78.166667</td>\n",
       "      <td>-6.454158</td>\n",
       "    </tr>\n",
       "    <tr>\n",
       "      <th>1783</th>\n",
       "      <td>1784</td>\n",
       "      <td>Lucid Motors</td>\n",
       "      <td>Automotive</td>\n",
       "      <td>United States</td>\n",
       "      <td>2018</td>\n",
       "      <td>Peter Rawlinson</td>\n",
       "      <td>0.03</td>\n",
       "      <td>-3.03</td>\n",
       "      <td>7.88</td>\n",
       "      <td>31.59</td>\n",
       "      <td>3900.0</td>\n",
       "      <td>-101.000000</td>\n",
       "      <td>-10.425743</td>\n",
       "    </tr>\n",
       "  </tbody>\n",
       "</table>\n",
       "</div>"
      ],
      "text/plain": [
       "      ranking  organization    industry origin_country  year_founded  \\\n",
       "1439     1440        Rivian  Automotive  United States          2009   \n",
       "1783     1784  Lucid Motors  Automotive  United States          2018   \n",
       "\n",
       "                         ceo  revenue  profits  assets  market_value  \\\n",
       "1439  Robert Joseph Scaringe     0.06    -4.69   22.29         30.27   \n",
       "1783         Peter Rawlinson     0.03    -3.03    7.88         31.59   \n",
       "\n",
       "     total_employees  profit_margin   PE_ratio  \n",
       "1439         10422.0     -78.166667  -6.454158  \n",
       "1783          3900.0    -101.000000 -10.425743  "
      ]
     },
     "execution_count": 35,
     "metadata": {},
     "output_type": "execute_result"
    }
   ],
   "source": [
    "automotive_df"
   ]
  },
  {
   "cell_type": "markdown",
   "id": "6bbef5a4-0a88-4d4c-b4c4-0c2e1e89eb46",
   "metadata": {},
   "source": [
    "According to the calculation, Automotive industry has very high negative profit margin and there are only 2 companies in the Automotive industry and \n",
    "both are producing EV. EV companies like Rivian and Lucid Motors are facing very high negative profit margins due to the high costs associated with \n",
    "raw materials, production, and research and development that are not being offset by their car sales. As a result, their sales are not enough to cover\n",
    "their costs, leading to negative profit margins."
   ]
  },
  {
   "cell_type": "code",
   "execution_count": 52,
   "id": "6ba1b70b-32c3-401c-a27c-437b34dac101",
   "metadata": {},
   "outputs": [
    {
     "data": {
      "image/png": "[encoded data removed]",
      "text/plain": [
       "<Figure size 432x288 with 1 Axes>"
      ]
     },
     "metadata": {
      "needs_background": "light"
     },
     "output_type": "display_data"
    }
   ],
   "source": [
    "# Split the data into two dataframes, one for positive values and one for negative values\n",
    "positive_profit_margin = avg_profit_margin[avg_profit_margin > 0]\n",
    "negative_profit_margin = avg_profit_margin[avg_profit_margin < 0]\n",
    "\n",
    "plt.bar(positive_profit_margin.index, positive_profit_margin.values)\n",
    "plt.xlabel('Industry')\n",
    "plt.ylabel('Profit Margin')\n",
    "plt.title('Industry-wise profit margin (In Billions) (Positive) ')\n",
    "plt.xticks(rotation=90)\n",
    "plt.show()"
   ]
  },
  {
   "cell_type": "markdown",
   "id": "17bb15c9-b166-40d7-9a14-8096e6f86ec1",
   "metadata": {},
   "source": [
    "As we can see from the plot, top 3 industry are Diversified Financials, Business Services & Supplies and Consumer Durables industry."
   ]
  },
  {
   "cell_type": "markdown",
   "id": "b2c2f6f7-b563-4b57-a0bf-dcd1ae772388",
   "metadata": {},
   "source": [
    "### Top 10 ROA companies"
   ]
  },
  {
   "cell_type": "code",
   "execution_count": 56,
   "id": "3b3da66c-8a0c-49fa-9125-a12c2a1a0180",
   "metadata": {},
   "outputs": [],
   "source": [
    "top_10_ROA = forbes_df.nlargest(10, 'ROA')"
   ]
  },
  {
   "cell_type": "code",
   "execution_count": 57,
   "id": "bebd472f-c2b4-4d27-9058-3880d0f06199",
   "metadata": {},
   "outputs": [
    {
     "data": {
      "text/html": [
       "<div>\n",
       "<style scoped>\n",
       "    .dataframe tbody tr th:only-of-type {\n",
       "        vertical-align: middle;\n",
       "    }\n",
       "\n",
       "    .dataframe tbody tr th {\n",
       "        vertical-align: top;\n",
       "    }\n",
       "\n",
       "    .dataframe thead th {\n",
       "        text-align: right;\n",
       "    }\n",
       "</style>\n",
       "<table border=\"1\" class=\"dataframe\">\n",
       "  <thead>\n",
       "    <tr style=\"text-align: right;\">\n",
       "      <th></th>\n",
       "      <th>ranking</th>\n",
       "      <th>organization</th>\n",
       "      <th>industry</th>\n",
       "      <th>origin_country</th>\n",
       "      <th>year_founded</th>\n",
       "      <th>ceo</th>\n",
       "      <th>revenue</th>\n",
       "      <th>profits</th>\n",
       "      <th>assets</th>\n",
       "      <th>market_value</th>\n",
       "      <th>total_employees</th>\n",
       "      <th>profit_margin</th>\n",
       "      <th>PE_ratio</th>\n",
       "      <th>ROA</th>\n",
       "    </tr>\n",
       "  </thead>\n",
       "  <tbody>\n",
       "    <tr>\n",
       "      <th>1995</th>\n",
       "      <td>1995</td>\n",
       "      <td>Shenzhen Feima International Supply Chain</td>\n",
       "      <td>Business Services &amp; Supplies</td>\n",
       "      <td>China</td>\n",
       "      <td>1998</td>\n",
       "      <td>Shan Min Huang</td>\n",
       "      <td>0.04</td>\n",
       "      <td>1.41</td>\n",
       "      <td>0.17</td>\n",
       "      <td>1.14</td>\n",
       "      <td>306.0</td>\n",
       "      <td>35.250000</td>\n",
       "      <td>0.808511</td>\n",
       "      <td>8.294118</td>\n",
       "    </tr>\n",
       "    <tr>\n",
       "      <th>587</th>\n",
       "      <td>587</td>\n",
       "      <td>Vivendi</td>\n",
       "      <td>Telecommunications Services</td>\n",
       "      <td>France</td>\n",
       "      <td>1853</td>\n",
       "      <td>Arnaud Roy de Puyfontaine</td>\n",
       "      <td>11.31</td>\n",
       "      <td>29.19</td>\n",
       "      <td>37.94</td>\n",
       "      <td>12.95</td>\n",
       "      <td>44641</td>\n",
       "      <td>2.580902</td>\n",
       "      <td>0.443645</td>\n",
       "      <td>0.769373</td>\n",
       "    </tr>\n",
       "    <tr>\n",
       "      <th>1890</th>\n",
       "      <td>1891</td>\n",
       "      <td>F&amp;F</td>\n",
       "      <td>Consumer Durables</td>\n",
       "      <td>South Korea</td>\n",
       "      <td>1972</td>\n",
       "      <td>Ui-Heon Park</td>\n",
       "      <td>0.64</td>\n",
       "      <td>1.66</td>\n",
       "      <td>2.45</td>\n",
       "      <td>0.89</td>\n",
       "      <td>8.0</td>\n",
       "      <td>2.593750</td>\n",
       "      <td>0.536145</td>\n",
       "      <td>0.677551</td>\n",
       "    </tr>\n",
       "    <tr>\n",
       "      <th>1107</th>\n",
       "      <td>1108</td>\n",
       "      <td>Chesapeake Energy</td>\n",
       "      <td>Oil &amp; Gas Operations</td>\n",
       "      <td>United States</td>\n",
       "      <td>1989</td>\n",
       "      <td>Domenic J. Dell’Osso Jr.</td>\n",
       "      <td>7.32</td>\n",
       "      <td>6.33</td>\n",
       "      <td>11.01</td>\n",
       "      <td>11.08</td>\n",
       "      <td>1300.0</td>\n",
       "      <td>0.864754</td>\n",
       "      <td>1.750395</td>\n",
       "      <td>0.574932</td>\n",
       "    </tr>\n",
       "    <tr>\n",
       "      <th>1822</th>\n",
       "      <td>1823</td>\n",
       "      <td>Info Edge India</td>\n",
       "      <td>IT Software &amp; Services</td>\n",
       "      <td>India</td>\n",
       "      <td>1995</td>\n",
       "      <td>Hitesh Oberoi</td>\n",
       "      <td>0.19</td>\n",
       "      <td>1.68</td>\n",
       "      <td>2.99</td>\n",
       "      <td>7.84</td>\n",
       "      <td>4439.0</td>\n",
       "      <td>8.842105</td>\n",
       "      <td>4.666667</td>\n",
       "      <td>0.561873</td>\n",
       "    </tr>\n",
       "    <tr>\n",
       "      <th>1748</th>\n",
       "      <td>1749</td>\n",
       "      <td>Bayan Resources</td>\n",
       "      <td>Materials</td>\n",
       "      <td>Indonesia</td>\n",
       "      <td>2004</td>\n",
       "      <td>Tuck Kwong Low</td>\n",
       "      <td>2.85</td>\n",
       "      <td>1.21</td>\n",
       "      <td>2.43</td>\n",
       "      <td>9.82</td>\n",
       "      <td>2876.0</td>\n",
       "      <td>0.424561</td>\n",
       "      <td>8.115702</td>\n",
       "      <td>0.497942</td>\n",
       "    </tr>\n",
       "    <tr>\n",
       "      <th>373</th>\n",
       "      <td>374</td>\n",
       "      <td>Moderna</td>\n",
       "      <td>Drugs &amp; Biotechnology</td>\n",
       "      <td>United States</td>\n",
       "      <td>2010</td>\n",
       "      <td>Stéphane Bancel</td>\n",
       "      <td>18.40</td>\n",
       "      <td>12.20</td>\n",
       "      <td>24.87</td>\n",
       "      <td>56.56</td>\n",
       "      <td>2700.0</td>\n",
       "      <td>0.663043</td>\n",
       "      <td>4.636066</td>\n",
       "      <td>0.490551</td>\n",
       "    </tr>\n",
       "    <tr>\n",
       "      <th>1176</th>\n",
       "      <td>1177</td>\n",
       "      <td>ZIM Integrated Shipping Services</td>\n",
       "      <td>Transportation</td>\n",
       "      <td>Israel</td>\n",
       "      <td>1945</td>\n",
       "      <td>Eliyahu Glickman</td>\n",
       "      <td>10.73</td>\n",
       "      <td>4.64</td>\n",
       "      <td>9.84</td>\n",
       "      <td>6.53</td>\n",
       "      <td>5931.0</td>\n",
       "      <td>0.432432</td>\n",
       "      <td>1.407328</td>\n",
       "      <td>0.471545</td>\n",
       "    </tr>\n",
       "    <tr>\n",
       "      <th>1954</th>\n",
       "      <td>1954</td>\n",
       "      <td>Intco Medical Technology</td>\n",
       "      <td>Health Care Equipment &amp; Services</td>\n",
       "      <td>China</td>\n",
       "      <td>2009</td>\n",
       "      <td>Qiong Chen</td>\n",
       "      <td>2.84</td>\n",
       "      <td>1.47</td>\n",
       "      <td>3.16</td>\n",
       "      <td>3.33</td>\n",
       "      <td>6503.0</td>\n",
       "      <td>0.517606</td>\n",
       "      <td>2.265306</td>\n",
       "      <td>0.465190</td>\n",
       "    </tr>\n",
       "    <tr>\n",
       "      <th>944</th>\n",
       "      <td>945</td>\n",
       "      <td>Severstal</td>\n",
       "      <td>Materials</td>\n",
       "      <td>Russia</td>\n",
       "      <td>1955</td>\n",
       "      <td>Alexander Anatolievich Shevelev</td>\n",
       "      <td>11.63</td>\n",
       "      <td>4.07</td>\n",
       "      <td>8.75</td>\n",
       "      <td>11.50</td>\n",
       "      <td>16800]</td>\n",
       "      <td>0.349957</td>\n",
       "      <td>2.825553</td>\n",
       "      <td>0.465143</td>\n",
       "    </tr>\n",
       "  </tbody>\n",
       "</table>\n",
       "</div>"
      ],
      "text/plain": [
       "      ranking                               organization  \\\n",
       "1995     1995  Shenzhen Feima International Supply Chain   \n",
       "587       587                                    Vivendi   \n",
       "1890     1891                                        F&F   \n",
       "1107     1108                          Chesapeake Energy   \n",
       "1822     1823                            Info Edge India   \n",
       "1748     1749                            Bayan Resources   \n",
       "373       374                                    Moderna   \n",
       "1176     1177           ZIM Integrated Shipping Services   \n",
       "1954     1954                   Intco Medical Technology   \n",
       "944       945                                  Severstal   \n",
       "\n",
       "                              industry origin_country  year_founded  \\\n",
       "1995      Business Services & Supplies          China          1998   \n",
       "587        Telecommunications Services         France          1853   \n",
       "1890                 Consumer Durables    South Korea          1972   \n",
       "1107              Oil & Gas Operations  United States          1989   \n",
       "1822            IT Software & Services          India          1995   \n",
       "1748                         Materials      Indonesia          2004   \n",
       "373              Drugs & Biotechnology  United States          2010   \n",
       "1176                    Transportation         Israel          1945   \n",
       "1954  Health Care Equipment & Services          China          2009   \n",
       "944                          Materials         Russia          1955   \n",
       "\n",
       "                                  ceo  revenue  profits  assets  market_value  \\\n",
       "1995                   Shan Min Huang     0.04     1.41    0.17          1.14   \n",
       "587         Arnaud Roy de Puyfontaine    11.31    29.19   37.94         12.95   \n",
       "1890                     Ui-Heon Park     0.64     1.66    2.45          0.89   \n",
       "1107         Domenic J. Dell’Osso Jr.     7.32     6.33   11.01         11.08   \n",
       "1822                    Hitesh Oberoi     0.19     1.68    2.99          7.84   \n",
       "1748                   Tuck Kwong Low     2.85     1.21    2.43          9.82   \n",
       "373                   Stéphane Bancel    18.40    12.20   24.87         56.56   \n",
       "1176                 Eliyahu Glickman    10.73     4.64    9.84          6.53   \n",
       "1954                       Qiong Chen     2.84     1.47    3.16          3.33   \n",
       "944   Alexander Anatolievich Shevelev    11.63     4.07    8.75         11.50   \n",
       "\n",
       "     total_employees  profit_margin  PE_ratio       ROA  \n",
       "1995           306.0      35.250000  0.808511  8.294118  \n",
       "587            44641       2.580902  0.443645  0.769373  \n",
       "1890             8.0       2.593750  0.536145  0.677551  \n",
       "1107          1300.0       0.864754  1.750395  0.574932  \n",
       "1822          4439.0       8.842105  4.666667  0.561873  \n",
       "1748          2876.0       0.424561  8.115702  0.497942  \n",
       "373           2700.0       0.663043  4.636066  0.490551  \n",
       "1176          5931.0       0.432432  1.407328  0.471545  \n",
       "1954          6503.0       0.517606  2.265306  0.465190  \n",
       "944           16800]       0.349957  2.825553  0.465143  "
      ]
     },
     "execution_count": 57,
     "metadata": {},
     "output_type": "execute_result"
    }
   ],
   "source": [
    "top_10_ROA"
   ]
  },
  {
   "cell_type": "markdown",
   "id": "33a71366-22bd-4ef5-8931-9459b1526109",
   "metadata": {},
   "source": [
    "### Top industries with best ROA"
   ]
  },
  {
   "cell_type": "code",
   "execution_count": 59,
   "id": "a751542e-a04e-4540-af15-9b4c45b8b2eb",
   "metadata": {},
   "outputs": [
    {
     "name": "stdout",
     "output_type": "stream",
     "text": [
      "The Industry with the best ROA is:  Semiconductors\n"
     ]
    }
   ],
   "source": [
    "avg_ROA_by_industry = forbes_df.groupby('industry')['ROA'].mean()\n",
    "best_ROA_industry = avg_ROA_by_industry.idxmax()\n",
    "\n",
    "print(\"The Industry with the best ROA is: \",best_ROA_industry)"
   ]
  },
  {
   "cell_type": "code",
   "execution_count": 61,
   "id": "e5b60203-8b4e-4a9d-bcd5-d05dc3de8c53",
   "metadata": {},
   "outputs": [
    {
     "name": "stdout",
     "output_type": "stream",
     "text": [
      "industry\n",
      "Semiconductors                      0.151514\n",
      "Business Services & Supplies        0.147902\n",
      "Food & Drink                        0.125558\n",
      "Materials                           0.122221\n",
      "Health Care Equipment & Services    0.109629\n",
      "Name: ROA, dtype: float64\n"
     ]
    }
   ],
   "source": [
    "#groupby industry and mean\n",
    "industry_ROA = forbes_df.groupby(\"industry\")[\"ROA\"].mean()\n",
    "industry_ROA = industry_ROA.sort_values(ascending=False)\n",
    "\n",
    "#select top 5\n",
    "top_5_industry_ROA = industry_ROA.nlargest(5)\n",
    "print(top_5_industry_ROA)\n"
   ]
  },
  {
   "cell_type": "code",
   "execution_count": 62,
   "id": "707726b6-05b7-41c3-ac17-9de1c0190b31",
   "metadata": {},
   "outputs": [
    {
     "data": {
      "image/png": "[encoded data removed]",
      "text/plain": [
       "<Figure size 432x288 with 1 Axes>"
      ]
     },
     "metadata": {
      "needs_background": "light"
     },
     "output_type": "display_data"
    }
   ],
   "source": [
    "top_5_industry_ROA.plot(kind='bar')\n",
    "plt.xlabel('Industry')\n",
    "plt.ylabel('ROA')\n",
    "plt.title('Top 5 Industry with the best ROA')\n",
    "plt.show()\n"
   ]
  },
  {
   "cell_type": "code",
   "execution_count": 68,
   "id": "b618e78a-2577-42cd-ac1b-d23222bb40df",
   "metadata": {},
   "outputs": [
    {
     "data": {
      "image/png": "[encoded data removed]",
      "text/plain": [
       "<Figure size 432x288 with 1 Axes>"
      ]
     },
     "metadata": {
      "needs_background": "light"
     },
     "output_type": "display_data"
    }
   ],
   "source": [
    "#Filter out the rows with zero values in the columns of interest\n",
    "forbes_df = forbes_df[(forbes_df != 0).all(1)]\n",
    "#count the number of occurrences of each country\n",
    "counts = forbes_df[\"origin_country\"].value_counts()\n",
    "#get the top 10 countries\n",
    "top_10_countries = counts.nlargest(10)\n",
    "\n",
    "top_10_countries.plot.bar()\n",
    "plt.xlabel(\"Country\")\n",
    "plt.ylabel(\"Occurrences in Dataframe\")\n",
    "plt.title(\"Top 10 Countries Distribution in Forbes 2000 Companies List\")\n",
    "plt.show()"
   ]
  },
  {
   "cell_type": "markdown",
   "id": "699536a6-350b-4b8d-b9a1-00d5ce1d3786",
   "metadata": {},
   "source": [
    "### Top 10 grossing companies in the US (based on Revenue, Profits and profit margin)"
   ]
  },
  {
   "cell_type": "code",
   "execution_count": 90,
   "id": "01229b6a-6d02-4fc7-a240-0971525159c2",
   "metadata": {},
   "outputs": [
    {
     "data": {
      "image/png": "[encoded data removed]",
      "text/plain": [
       "<Figure size 432x288 with 1 Axes>"
      ]
     },
     "metadata": {
      "needs_background": "light"
     },
     "output_type": "display_data"
    }
   ],
   "source": [
    "us_companies = forbes_df.query(\"origin_country == 'United States'\")\n",
    "\n",
    "# get the top 10 companies with the highest revenue\n",
    "top_10_us_companies = us_companies.nlargest(10, 'revenue')\n",
    "\n",
    "top_10_us_companies.plot(kind='bar', x='organization', y='revenue', legend=False)\n",
    "plt.xlabel('Organization')\n",
    "plt.ylabel('Revenue')\n",
    "plt.title('Top 10 Grossing Companies in the United States (revenue)')\n",
    "plt.xticks(rotation=90)\n",
    "plt.show()"
   ]
  },
  {
   "cell_type": "code",
   "execution_count": 89,
   "id": "16ee3c2b-967d-4c00-8aed-84f34e8bca58",
   "metadata": {},
   "outputs": [
    {
     "data": {
      "image/png": "[encoded data removed]",
      "text/plain": [
       "<Figure size 432x288 with 1 Axes>"
      ]
     },
     "metadata": {
      "needs_background": "light"
     },
     "output_type": "display_data"
    }
   ],
   "source": [
    "us_companies = forbes_df.query(\"origin_country == 'United States'\")\n",
    "\n",
    "# get the top 10 companies with the highest revenue\n",
    "top_10_us_companies = us_companies.nlargest(10, 'profits')\n",
    "\n",
    "top_10_us_companies.plot(kind='bar', x='organization', y='profits', legend=False)\n",
    "plt.xlabel('Organization')\n",
    "plt.ylabel('Profit')\n",
    "plt.title('Top 10 Grossing Companies in the United States (profit)')\n",
    "plt.xticks(rotation=90)\n",
    "plt.show()"
   ]
  },
  {
   "cell_type": "code",
   "execution_count": 88,
   "id": "fc9260de-7f82-43e9-9c14-33e95b33ebfa",
   "metadata": {},
   "outputs": [
    {
     "data": {
      "image/png": "[encoded data removed]",
      "text/plain": [
       "<Figure size 432x288 with 1 Axes>"
      ]
     },
     "metadata": {
      "needs_background": "light"
     },
     "output_type": "display_data"
    }
   ],
   "source": [
    "us_companies = forbes_df.query(\"origin_country == 'United States'\")\n",
    "\n",
    "# get the top 10 companies with the highest revenue\n",
    "top_10_us_companies = us_companies.nlargest(10, 'profit_margin')\n",
    "\n",
    "top_10_us_companies.plot(kind='bar', x='organization', y='profit_margin', legend=False)\n",
    "plt.xlabel('Organization')\n",
    "plt.ylabel('Profit Margin')\n",
    "plt.title('Top 10 Grossing Companies in the United States (profit margin)')\n",
    "plt.xticks(rotation=90)\n",
    "plt.show()"
   ]
  },
  {
   "cell_type": "code",
   "execution_count": null,
   "id": "0ff4c0f5-2655-458c-bb3d-d5e902b46875",
   "metadata": {},
   "outputs": [],
   "source": []
  }
 ],
 "metadata": {
  "kernelspec": {
   "display_name": "Python 3",
   "language": "python",
   "name": "python3"
  },
  "language_info": {
   "codemirror_mode": {
    "name": "ipython",
    "version": 3
   },
   "file_extension": ".py",
   "mimetype": "text/x-python",
   "name": "python",
   "nbconvert_exporter": "python",
   "pygments_lexer": "ipython3",
   "version": "3.8.8"
  }
 },
 "nbformat": 4,
 "nbformat_minor": 5
}
